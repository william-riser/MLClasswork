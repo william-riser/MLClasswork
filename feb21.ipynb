{
 "cells": [
  {
   "metadata": {
    "ExecuteTime": {
     "end_time": "2025-02-21T19:11:07.514676Z",
     "start_time": "2025-02-21T19:11:07.511851Z"
    }
   },
   "cell_type": "code",
   "source": [
    "import numpy as np\n",
    "from numpy import genfromtxt"
   ],
   "id": "991c975a826eb440",
   "outputs": [],
   "execution_count": 33
  },
  {
   "metadata": {
    "ExecuteTime": {
     "end_time": "2025-02-21T19:11:07.525794Z",
     "start_time": "2025-02-21T19:11:07.522614Z"
    }
   },
   "cell_type": "code",
   "source": [
    "def p(x):\n",
    "    if x == 'kate':\n",
    "        return 0.95\n",
    "    if x =='matt':\n",
    "        return 0.0499\n",
    "    if x == 'alice':\n",
    "        return 0.0001\n",
    "\n",
    "def I(x):\n",
    "    return np.log(1/p(x))\n",
    "\n",
    "print(\"Kate's information: \", I('kate'))\n",
    "print(\"Matt's information: \", I('matt'))\n",
    "print(\"Alice's information: \", I('alice'))"
   ],
   "id": "b9bb7dc515d6da2d",
   "outputs": [
    {
     "name": "stdout",
     "output_type": "stream",
     "text": [
      "Kate's information:  0.05129329438755048\n",
      "Matt's information:  2.997734276224664\n",
      "Alice's information:  9.210340371976184\n"
     ]
    }
   ],
   "execution_count": 34
  },
  {
   "metadata": {
    "ExecuteTime": {
     "end_time": "2025-02-21T19:11:07.545330Z",
     "start_time": "2025-02-21T19:11:07.542482Z"
    }
   },
   "cell_type": "code",
   "source": [
    "\n",
    "def p(x):\n",
    "    if x == 'b':\n",
    "        return 1/5\n",
    "    if x =='r':\n",
    "        return 2/5\n",
    "    if x == 'g':\n",
    "        return 1/5\n",
    "    if x == 'y':\n",
    "        return 1/5\n",
    "\n",
    "def I(x):\n",
    "    return np.log(1/p(x))\n",
    "\n",
    "def H(x):\n",
    "    return sum([p(i)*I(i) for i in x])\n",
    "\n",
    "print(\"Entropy of the distribution: \", H(['b', 'r', 'g', 'y']))"
   ],
   "id": "45171be14e4b6377",
   "outputs": [
    {
     "name": "stdout",
     "output_type": "stream",
     "text": [
      "Entropy of the distribution:  1.3321790402101223\n"
     ]
    }
   ],
   "execution_count": 35
  },
  {
   "metadata": {
    "ExecuteTime": {
     "end_time": "2025-02-21T19:11:07.631308Z",
     "start_time": "2025-02-21T19:11:07.626502Z"
    }
   },
   "cell_type": "code",
   "source": [
    "from scipy.integrate import quad\n",
    "\n",
    "X = genfromtxt('time_until_phone_drop.csv', delimiter=',')\n",
    "n = np.shape(X)[0]\n",
    "theta = 1/ np.mean(X)\n",
    "def p(x):\n",
    "    return theta * np.exp(-theta*x)\n",
    "def I(x):\n",
    "    return -np.log(p(x))\n",
    "\n",
    "def f(x):\n",
    "    return p(x) * I(x)\n",
    "\n",
    "def sample_entropy(x):\n",
    "    return -np.log(p(x))\n",
    "\n",
    "print('Entropy of the distribution: ', quad(f, 0, 50)[0])\n",
    "print('Entropy w/ samples: ', np.mean(sample_entropy(X)))"
   ],
   "id": "4803204cfd92e368",
   "outputs": [
    {
     "name": "stdout",
     "output_type": "stream",
     "text": [
      "Entropy of the distribution:  0.8880500438090556\n",
      "Entropy w/ samples:  0.8880500438090555\n"
     ]
    }
   ],
   "execution_count": 36
  },
  {
   "metadata": {
    "ExecuteTime": {
     "end_time": "2025-02-21T19:50:51.379891Z",
     "start_time": "2025-02-21T19:50:51.376358Z"
    }
   },
   "cell_type": "code",
   "source": [
    "def p(x, y):\n",
    "    if x == 0 and y == 0:\n",
    "        return 1/10\n",
    "    if x == 0 and y == 1:\n",
    "        return 4/10\n",
    "    if x == 0 and y == 2:\n",
    "        return 1/10\n",
    "    if x == 1 and y == 0:\n",
    "        return 2/10\n",
    "    if x == 1 and y == 1:\n",
    "        return 1/10\n",
    "    if x == 1 and y == 2:\n",
    "        return 1/10\n",
    "\n",
    "print('Entropy of x:', 0.6 * -np.log(0.6) - 0.4 * np.log(0.4))\n",
    "\n",
    "\n",
    "\n",
    "\n",
    "\n"
   ],
   "id": "c6455c4d741ae51",
   "outputs": [
    {
     "name": "stdout",
     "output_type": "stream",
     "text": [
      "Entropy of x: 0.6730116670092565\n"
     ]
    }
   ],
   "execution_count": 40
  }
 ],
 "metadata": {
  "kernelspec": {
   "name": "python3",
   "language": "python",
   "display_name": "Python 3 (ipykernel)"
  }
 },
 "nbformat": 5,
 "nbformat_minor": 9
}
