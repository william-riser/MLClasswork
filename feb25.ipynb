{
 "cells": [
  {
   "metadata": {
    "ExecuteTime": {
     "end_time": "2025-02-25T20:12:47.411744Z",
     "start_time": "2025-02-25T20:12:47.406778Z"
    }
   },
   "cell_type": "code",
   "source": "import numpy as np",
   "id": "6b7588e2a6740aca",
   "outputs": [],
   "execution_count": 15
  },
  {
   "metadata": {
    "ExecuteTime": {
     "end_time": "2025-02-25T20:12:47.440103Z",
     "start_time": "2025-02-25T20:12:47.437782Z"
    }
   },
   "cell_type": "code",
   "source": [
    "phi = np.array([\n",
    "    [0, 1, 0],\n",
    "    [1, 0, 0],\n",
    "    [3, 2, 1],\n",
    "    [3, 3, 1]\n",
    "])\n",
    "\n",
    "n = 4\n",
    "w = np.ones(3)\n",
    "w = w.reshape(-1, 1)\n",
    "\n",
    "y = np.array([0, 0, 1, 1])\n",
    "y = y.reshape(-1, 1)"
   ],
   "id": "1217e8b2bc94e297",
   "outputs": [],
   "execution_count": 16
  },
  {
   "metadata": {
    "ExecuteTime": {
     "end_time": "2025-02-25T20:12:47.451468Z",
     "start_time": "2025-02-25T20:12:47.450243Z"
    }
   },
   "cell_type": "code",
   "source": [
    "def q(x=None, X=None, w=None):\n",
    "    if x is None:\n",
    "        return 1/(1 + np.exp(-x.T @ w))\n",
    "    else:\n",
    "        return 1/(1 + np.exp(-X @ w))\n"
   ],
   "id": "cbf1716995abf5c9",
   "outputs": [],
   "execution_count": null
  }
 ],
 "metadata": {
  "kernelspec": {
   "name": "python3",
   "language": "python",
   "display_name": "Python 3 (ipykernel)"
  }
 },
 "nbformat": 5,
 "nbformat_minor": 9
}
