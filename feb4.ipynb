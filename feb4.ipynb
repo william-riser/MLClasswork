{
 "cells": [
  {
   "metadata": {
    "ExecuteTime": {
     "end_time": "2025-02-04T19:53:26.673740Z",
     "start_time": "2025-02-04T19:53:26.433690Z"
    }
   },
   "cell_type": "code",
   "source": [
    "import numpy as np\n",
    "import matplotlib.pyplot as plt\n",
    "import sklearn as sk\n",
    "from numpy import genfromtxt\n",
    "from sklearn import preprocessing\n",
    "from sklearn.model_selection import train_test_split\n",
    "from sklearn.preprocessing import StandardScaler, PolynomialFeatures\n",
    "from sklearn.linear_model import Lasso as SKLasso, Ridge as SKRidge\n",
    "from numpy import ndarray\n",
    "from enum import Enum"
   ],
   "id": "6579f623f6e28067",
   "outputs": [],
   "execution_count": 53
  },
  {
   "metadata": {
    "ExecuteTime": {
     "end_time": "2025-02-04T19:30:18.337250Z",
     "start_time": "2025-02-04T19:30:18.334228Z"
    }
   },
   "cell_type": "code",
   "source": [
    "\n",
    "X = np.array([0, 1, 2, 3])\n",
    "Y = np.array([[0], [1], [1], [2]])\n",
    "w = np.array([[0], [0], [1]])\n",
    "phi = np.array([X ** 2, X, np.ones(len(X))]).T\n",
    "n = 4\n",
    "step_size = 0.01\n",
    "lam = 0.1\n",
    "\n",
    "d_f = (2 / n) * phi.T.dot((phi.dot(w) - Y)) + np.sign(w)\n",
    "\n",
    "w = w - step_size * d_f\n"
   ],
   "id": "4e27e72deaad826d",
   "outputs": [],
   "execution_count": 44
  },
  {
   "metadata": {
    "ExecuteTime": {
     "end_time": "2025-02-04T19:30:55.158517Z",
     "start_time": "2025-02-04T19:30:55.151237Z"
    }
   },
   "cell_type": "code",
   "source": [
    "error_list = []\n",
    "for i in range(400):\n",
    "    d_f = (2 / n) * phi.T.dot((phi.dot(w) - Y)) + lam * np.sign(w)\n",
    "    w = w - step_size * d_f\n",
    "    ŷ2 = phi.dot(w)\n",
    "    e = (Y - ŷ2).T.dot((Y - ŷ2)) / n\n",
    "    error_list.append(e.item())\n"
   ],
   "id": "827ae75ac52b174a",
   "outputs": [],
   "execution_count": 47
  },
  {
   "metadata": {
    "ExecuteTime": {
     "end_time": "2025-02-04T19:30:56.238649Z",
     "start_time": "2025-02-04T19:30:56.193861Z"
    }
   },
   "cell_type": "code",
   "source": [
    "plt.plot(error_list)\n",
    "plt.show()"
   ],
   "id": "e1adbabc37e03cc0",
   "outputs": [
    {
     "data": {
      "text/plain": [
       "<Figure size 640x480 with 1 Axes>"
      ],
      "image/png": "[encoded data removed]"
     },
     "metadata": {},
     "output_type": "display_data"
    }
   ],
   "execution_count": 48
  },
  {
   "metadata": {
    "ExecuteTime": {
     "end_time": "2025-02-04T20:00:07.586424Z",
     "start_time": "2025-02-04T20:00:07.446105Z"
    }
   },
   "cell_type": "code",
   "source": [
    "\n",
    "X = genfromtxt('stock_prediction_data.csv', delimiter=',')\n",
    "y = genfromtxt('stock_price.csv', delimiter=',')\n",
    "y = y.reshape(-1, 1)\n",
    "\n",
    "X_train, X_rest, y_train, y_rest = train_test_split(X, y, test_size=0.2, random_state=42)\n",
    "X_test, X_val, y_test, y_val = train_test_split(X_rest, y_rest, test_size=0.5, random_state=42)\n",
    "\n",
    "scaler = StandardScaler()\n",
    "scaler.fit(X_train)\n",
    "X_train = scaler.transform(X_train)\n",
    "X_val = scaler.transform(X_val)\n",
    "X_test = scaler.transform(X_test)\n",
    "\n",
    "X_train = PolynomialFeatures(degree=2, include_bias=True).fit_transform(X_train)\n",
    "X_val = PolynomialFeatures(degree=2, include_bias=True).fit_transform(X_val)\n",
    "X_test = PolynomialFeatures(degree=2, include_bias=True).fit_transform(X_test)\n",
    "\n",
    "def ߜLasso(w: ndarray, Φ: ndarray, y: ndarray, λ: float) -> ndarray:\n",
    "    n, m = Φ.shape\n",
    "    return 2/n * Φ.T.dot(Φ.dot(w) - y) + λ * np.sign(w) # if λ = 0, this is the gradient of the MSE loss function\n",
    "def gradient_descent_lasso(Φ: ndarray, y: ndarray, α: float = 0.01, num_iter: int = 10_000, λ: float = 1) -> ndarray:\n",
    "    n, m = Φ.shape\n",
    "    w = np.zeros((m, 1))\n",
    "    for _ in range(num_iter):\n",
    "        gradient = ߜLasso(w, Φ, y, λ=λ)  # Gradient of Lasso Objective with respect to w\n",
    "        # Checking for convergence\n",
    "        if np.all(np.abs(gradient) < 1e-5) or np.isnan(gradient).any():\n",
    "            break\n",
    "        # Check for gradient explosion\n",
    "        if np.isinf(gradient).any():\n",
    "            raise ValueError(\"Gradient exploded\")\n",
    "\n",
    "        w -= α * gradient\n",
    "    return w\n",
    "def predict(Φ: ndarray, w: ndarray) -> ndarray:\n",
    "    return Φ.dot(w)\n",
    "def mse(y: ndarray, y_hat: ndarray) -> float:\n",
    "    return np.mean((y - y_hat)**2)\n",
    "\n",
    "w_lasso_gd = gradient_descent_lasso(X_train, y_train, λ=1)\n",
    "pred_train = predict(X_train, w_lasso_gd)\n",
    "print(f\"My Lasso Regression Train MSE: {mse(y_train, pred_train)}\")\n",
    "pred_val = predict(X_val, w_lasso_gd)\n",
    "print(f\"My Lasso Regression Validation MSE: {mse(y_val, pred_val)}\")"
   ],
   "id": "78ea63b88ffef63",
   "outputs": [
    {
     "name": "stdout",
     "output_type": "stream",
     "text": [
      "My Lasso Regression Train MSE: 2.1229748238302837\n",
      "My Lasso Regression Validation MSE: 2.366520820219161\n"
     ]
    }
   ],
   "execution_count": 60
  },
  {
   "metadata": {
    "ExecuteTime": {
     "end_time": "2025-02-04T20:00:58.428394Z",
     "start_time": "2025-02-04T20:00:58.419535Z"
    }
   },
   "cell_type": "code",
   "source": [
    "sk_poly_lasso = SKLasso(alpha=1)\n",
    "sk_poly_lasso.fit(X_train,y_train.flatten()) # y is 2D, but scikit-learn expects 1D\n",
    "pred_train = sk_poly_lasso.predict(X_train).reshape(-1,1)\n",
    "print(f\"SKLearn Lasso Train MSE: {mse(y_train, pred_train)}\")\n",
    "pred_val = sk_poly_lasso.predict(X_val).reshape(-1,1)\n",
    "print(f\"SKLearn Lasso Validation MSE: {mse(y_val, pred_val)}\")"
   ],
   "id": "8b00934f9f61ae23",
   "outputs": [
    {
     "name": "stdout",
     "output_type": "stream",
     "text": [
      "SKLearn Lasso Train MSE: 6.831045121140056\n",
      "SKLearn Lasso Validation MSE: 7.629002980184826\n"
     ]
    }
   ],
   "execution_count": 61
  },
  {
   "metadata": {
    "ExecuteTime": {
     "end_time": "2025-02-04T20:01:08.724438Z",
     "start_time": "2025-02-04T20:01:08.241315Z"
    }
   },
   "cell_type": "code",
   "source": [
    "valid_lambdas = [0, 0.1, 1, 10] # list of values to try for lambda\n",
    "best_lambda_lasso = None # store the best lambda value\n",
    "best_mse_lasso = float('inf') # store the best mse value\n",
    "for λ in valid_lambdas:\n",
    "    w_lasso_gd = gradient_descent_lasso(X_train, y_train, λ=λ) # train the model with Train data and λ\n",
    "    pred_val = predict(X_val, w_lasso_gd) # predict the validation data\n",
    "    mse_ = mse(y_val, pred_val)\n",
    "    print(f\"My Lasso Regression Validation MSE: {mse_} for lambda: {λ}\")\n",
    "    if mse_ < best_mse_lasso:\n",
    "        best_mse_lasso = mse_\n",
    "        best_lambda_lasso = λ\n",
    "print(f\"Best lambda: {best_lambda_lasso} with MSE: {best_mse_lasso}\")"
   ],
   "id": "b81e398d52c1820f",
   "outputs": [
    {
     "name": "stdout",
     "output_type": "stream",
     "text": [
      "My Lasso Regression Validation MSE: 0.0929512768625821 for lambda: 0\n",
      "My Lasso Regression Validation MSE: 0.09554581350427212 for lambda: 0.1\n",
      "My Lasso Regression Validation MSE: 2.366520820219161 for lambda: 1\n",
      "My Lasso Regression Validation MSE: 46.705761270943 for lambda: 10\n",
      "Best lambda: 0 with MSE: 0.0929512768625821\n"
     ]
    }
   ],
   "execution_count": 62
  }
 ],
 "metadata": {
  "kernelspec": {
   "name": "python3",
   "language": "python",
   "display_name": "Python 3 (ipykernel)"
  }
 },
 "nbformat": 5,
 "nbformat_minor": 9
}
