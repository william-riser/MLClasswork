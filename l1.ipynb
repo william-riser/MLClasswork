{
 "cells": [
  {
   "cell_type": "code",
   "execution_count": 51,
   "metadata": {},
   "outputs": [
    {
     "name": "stdout",
     "output_type": "stream",
     "text": [
      "Auto grad:  6.0 Theoretical grad:  6\n",
      "Auto grad:  6.0 Theoretical grad:  6\n",
      "Auto grad:  6.0 Theoretical grad:  6\n",
      "Auto grad:  6.0 Theoretical grad:  6\n",
      "Auto grad:  6.0 Theoretical grad:  6\n",
      "Auto grad:  6.0 Theoretical grad:  6\n",
      "Auto grad:  6.0 Theoretical grad:  6\n",
      "Auto grad:  6.0 Theoretical grad:  6\n",
      "Auto grad:  6.0 Theoretical grad:  6\n",
      "Auto grad:  6.0 Theoretical grad:  6\n"
     ]
    }
   ],
   "source": [
    "import autograd.numpy as np\n",
    "from autograd import grad\n",
    "from scipy.integrate import quad\n",
    "\n",
    "# Problem 1\n",
    "def f(x):\n",
    "    return 1*x + 2*x + 3*x\n",
    "\n",
    "def df(x):\n",
    "    return 1 + 2 + 3\n",
    "\n",
    "grad_f = grad(f)\n",
    "for i in range(10):\n",
    "    x = np.random.randn()\n",
    "    print('Auto grad: ', grad_f(x), 'Theoretical grad: ', df(x))\n"
   ]
  },
  {
   "cell_type": "code",
   "execution_count": 27,
   "metadata": {},
   "outputs": [
    {
     "name": "stdout",
     "output_type": "stream",
     "text": [
      "Auto grad:  -4.362073937047112 Theoretical grad:  -4.362073937047112\n",
      "Auto grad:  3.511358281274223 Theoretical grad:  3.511358281274223\n",
      "Auto grad:  -0.9986430992183282 Theoretical grad:  -0.9986430992183282\n",
      "Auto grad:  -1.7509459851446874 Theoretical grad:  -1.7509459851446874\n",
      "Auto grad:  22.223557730903508 Theoretical grad:  22.223557730903508\n",
      "Auto grad:  8.78802830883825 Theoretical grad:  8.78802830883825\n",
      "Auto grad:  -0.7397897607323785 Theoretical grad:  -0.7397897607323785\n",
      "Auto grad:  13.078986582669812 Theoretical grad:  13.078986582669812\n",
      "Auto grad:  10.555239540371938 Theoretical grad:  10.555239540371938\n",
      "Auto grad:  6.843130302601337 Theoretical grad:  6.843130302601337\n"
     ]
    }
   ],
   "source": [
    "# Problem 2\n",
    "def f(x):\n",
    "    return (2*x + 1)**2 + 3*x - 2\n",
    "def df(x):\n",
    "    return 8*x + 7\n",
    "\n",
    "grad_f = grad(f)\n",
    "\n",
    "for i in range(10):\n",
    "    x = np.random.randn()\n",
    "    print('Auto grad: ', grad_f(x), 'Theoretical grad: ', df(x))"
   ]
  },
  {
   "cell_type": "code",
   "execution_count": 39,
   "metadata": {},
   "outputs": [
    {
     "name": "stdout",
     "output_type": "stream",
     "text": [
      "Auto grad:  5.151259002776647 Theoretical grad:  9.760439823293071\n",
      "Auto grad:  8.631410407395348 Theoretical grad:  14.980321590613977\n",
      "Auto grad:  5.462019487705846 Theoretical grad:  10.22882668659149\n",
      "Auto grad:  -0.012712142598468201 Theoretical grad:  1.981119914958764\n",
      "Auto grad:  -2.3306994829904504 Theoretical grad:  -9.03231843556126\n",
      "Auto grad:  -0.9034974583765008 Theoretical grad:  0.6405610852849815\n",
      "Auto grad:  -2.2293841483007943 Theoretical grad:  -7.243633248428114\n",
      "Auto grad:  41.76028489954139 Theoretical grad:  62.32862554026027\n",
      "Auto grad:  -0.9961912014533314 Theoretical grad:  0.4915834077340417\n",
      "Auto grad:  -1.6600700145949057 Theoretical grad:  -1.1830356218835107\n"
     ]
    }
   ],
   "source": [
    "# Problem 3\n",
    "def f(x):\n",
    "    return (2 * x + 1) * (np.exp(-2*x)) - np.log(2)*(x**2)\n",
    "\n",
    "def df(x):\n",
    "    return -4*x*np.exp(-2*x) + 2*np.exp(-2*x) - 2*x/np.log(2) * x**2\n",
    "\n",
    "grad_f = grad(f)\n",
    "for i in range(10):\n",
    "    x = np.random.randn()\n",
    "    print('Auto grad: ', grad_f(x), 'Theoretical grad: ', df(x))"
   ]
  },
  {
   "cell_type": "code",
   "execution_count": 46,
   "metadata": {},
   "outputs": [
    {
     "name": "stdout",
     "output_type": "stream",
     "text": [
      "Auto grad:  -2.416752823641114 Theoretical grad:  -1.009208785010276\n",
      "Auto grad:  27146.18647212037 Theoretical grad:  2.7123277259576733e+137\n",
      "Auto grad:  -2.054987804972444 Theoretical grad:  -1.0100104008071087\n",
      "Auto grad:  30285.43902459615 Theoretical grad:  3.333969926704643e+147\n",
      "Auto grad:  29.756078474938747 Theoretical grad:  333.8371892261384\n",
      "Auto grad:  408.1261817947283 Theoretical grad:  17514389559.418083\n",
      "Auto grad:  0.6479228055458146 Theoretical grad:  -0.2812320069343053\n",
      "Auto grad:  23.392107800634435 Theoretical grad:  -166.55089075647373\n",
      "Auto grad:  18.59279371275285 Theoretical grad:  54.424594222090604\n",
      "Auto grad:  11.561428780648997 Theoretical grad:  21.43974630790207\n"
     ]
    }
   ],
   "source": [
    "# Problem 4\n",
    "def f(x):\n",
    "    return (np.exp(2 * x) + 1) ** 3 + np.log(np.exp(1)) * x ** 2\n",
    "\n",
    "def df(x):\n",
    "    return 3 ** (np.exp(2 * x) + 1) ** 2 * (2 * np.exp(2 * x)) + 2 / x\n",
    "\n",
    "grad_f = grad(f)\n",
    "for i in range(10):\n",
    "    x = np.random.randn()\n",
    "    print('Auto grad: ', grad_f(x), 'Theoretical grad: ', df(x))\n"
   ]
  },
  {
   "cell_type": "code",
   "execution_count": 55,
   "metadata": {},
   "outputs": [
    {
     "name": "stdout",
     "output_type": "stream",
     "text": [
      "Area = 0.83\n"
     ]
    }
   ],
   "source": [
    "# Problem 5\n",
    "\n",
    "def f(x):\n",
    "    return x**2 - x + 1\n",
    "\n",
    "A, err = quad(f, 0, 1)\n",
    "print('Area = %.2f' % A)"
   ]
  }
 ],
 "metadata": {
  "kernelspec": {
   "display_name": "venv",
   "language": "python",
   "name": "python3"
  },
  "language_info": {
   "codemirror_mode": {
    "name": "ipython",
    "version": 3
   },
   "file_extension": ".py",
   "mimetype": "text/x-python",
   "name": "python",
   "nbconvert_exporter": "python",
   "pygments_lexer": "ipython3",
   "version": "3.12.3"
  }
 },
 "nbformat": 4,
 "nbformat_minor": 2
}
