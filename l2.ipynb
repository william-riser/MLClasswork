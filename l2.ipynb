{
 "cells": [
  {
   "cell_type": "code",
   "execution_count": 12,
   "metadata": {},
   "outputs": [
    {
     "name": "stdout",
     "output_type": "stream",
     "text": [
      "42\n"
     ]
    }
   ],
   "source": [
    "import numpy as np\n",
    "from numpy import array\n",
    "from numpy import trace\n",
    "\n",
    "x = array([\n",
    "    [2],\n",
    "    [6]\n",
    "])\n",
    "\n",
    "y = array([\n",
    "    [1],\n",
    "    [0],\n",
    "])\n",
    "\n",
    "X = array([\n",
    "    [7, 5],\n",
    "    [3, 6]\n",
    "])\n",
    "\n",
    "Y = array([\n",
    "    [2,4],\n",
    "    [1,0]\n",
    "])\n",
    "\n",
    "xxT = x.dot(x.T)\n",
    "xyT = x.dot(y.T)\n",
    "innerXX = trace(xxT)\n",
    "innerXY = trace(xyT)\n",
    "\n",
    "print(innerXX + innerXY)\n",
    "\n"
   ]
  },
  {
   "cell_type": "code",
   "execution_count": 6,
   "metadata": {},
   "outputs": [
    {
     "name": "stdout",
     "output_type": "stream",
     "text": [
      "[[2 0]\n",
      " [6 0]]\n"
     ]
    }
   ],
   "source": [
    "print(x.dot(y.T))"
   ]
  },
  {
   "cell_type": "code",
   "execution_count": 10,
   "metadata": {},
   "outputs": [
    {
     "name": "stdout",
     "output_type": "stream",
     "text": [
      "[[14 20]\n",
      " [ 3  0]]\n"
     ]
    }
   ],
   "source": [
    "print(X * Y)"
   ]
  },
  {
   "cell_type": "code",
   "execution_count": 13,
   "metadata": {},
   "outputs": [
    {
     "name": "stdout",
     "output_type": "stream",
     "text": [
      "[[35 46]\n",
      " [24 32]]\n"
     ]
    }
   ],
   "source": [
    "print(2 * X + 2*Y + X.T.dot(Y))"
   ]
  }
 ],
 "metadata": {
  "kernelspec": {
   "display_name": "venv",
   "language": "python",
   "name": "python3"
  },
  "language_info": {
   "codemirror_mode": {
    "name": "ipython",
    "version": 3
   },
   "file_extension": ".py",
   "mimetype": "text/x-python",
   "name": "python",
   "nbconvert_exporter": "python",
   "pygments_lexer": "ipython3",
   "version": "3.12.3"
  }
 },
 "nbformat": 4,
 "nbformat_minor": 2
}
