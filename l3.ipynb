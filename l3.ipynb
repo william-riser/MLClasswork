{
 "cells": [
  {
   "cell_type": "code",
   "execution_count": 51,
   "metadata": {},
   "outputs": [
    {
     "name": "stdout",
     "output_type": "stream",
     "text": [
      "1. <A,A> = 25.0\n",
      "2. A hadamard B = \n",
      "[[0. 2. 2.]\n",
      " [2. 2. 0.]\n",
      " [2. 4. 0.]\n",
      " [2. 0. 0.]\n",
      " [0. 4. 1.]\n",
      " [0. 0. 0.]]\n",
      "3. Tr(x outer y) = 2.0\n",
      "4. ABT = \n",
      "[[4. 6. 2. 2. 4. 3.]\n",
      " [2. 4. 6. 6. 2. 1.]\n",
      " [6. 9. 6. 6. 6. 4.]\n",
      " [0. 1. 2. 2. 0. 0.]\n",
      " [5. 6. 4. 4. 5. 3.]\n",
      " [0. 0. 0. 0. 0. 0.]]\n",
      "5. ABTCx = \n",
      " [[ 62.]\n",
      " [ 82.]\n",
      " [122.]\n",
      " [ 22.]\n",
      " [ 88.]\n",
      " [  0.]]\n",
      "6. C(x + y) = \n",
      "[[ 7.]\n",
      " [ 8.]\n",
      " [14.]\n",
      " [ 9.]\n",
      " [ 7.]\n",
      " [ 9.]]\n",
      "7. ||x||0 = 2, ||x||1 = 3.0\n"
     ]
    }
   ],
   "source": [
    "import numpy as np\n",
    "from numpy import genfromtxt \n",
    "from numpy import trace\n",
    "\n",
    "A = genfromtxt('../data/test_A.csv', delimiter=',')\n",
    "B = genfromtxt('../data/test_B.csv', delimiter=',')\n",
    "C = genfromtxt('../data/test_C.csv', delimiter=',')\n",
    "x = genfromtxt('../data/test_x.csv', delimiter=',')\n",
    "y = genfromtxt('../data/test_y.csv', delimiter=',')\n",
    "z = genfromtxt('../data/test_z.csv', delimiter=',')\n",
    "\n",
    "x = np.reshape(x, (5,1))\n",
    "y = np.reshape(y, (5,1))\n",
    "z = np.reshape(z, (3,1))\n",
    "\n",
    "print(f'1. <A,A> = {trace(np.dot(A,A.T))}')\n",
    "print(f'2. A hadamard B = \\n{A * B}')\n",
    "print(f'3. Tr(x outer y) = {trace(np.dot(x,y.T))}')\n",
    "print(f'4. ABT = \\n{np.dot(A, B.T)}')\n",
    "print(f'5. ABTCx = \\n {np.dot(np.dot(np.dot(A, B.T), C), x) }')\n",
    "print(f'6. C(x + y) = \\n{np.dot(C, x + y)}')\n",
    "print(f'7. ||x||0 = {np.count_nonzero(x)}, ||x||1 = {np.linalg.norm(x, 1)}')\n"
   ]
  }
 ],
 "metadata": {
  "kernelspec": {
   "display_name": "venv",
   "language": "python",
   "name": "python3"
  },
  "language_info": {
   "codemirror_mode": {
    "name": "ipython",
    "version": 3
   },
   "file_extension": ".py",
   "mimetype": "text/x-python",
   "name": "python",
   "nbconvert_exporter": "python",
   "pygments_lexer": "ipython3",
   "version": "3.12.3"
  }
 },
 "nbformat": 4,
 "nbformat_minor": 2
}
